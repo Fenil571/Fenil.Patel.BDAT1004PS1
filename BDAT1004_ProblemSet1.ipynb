{
 "cells": [
  {
   "cell_type": "markdown",
   "id": "8ce26fe4",
   "metadata": {},
   "source": [
    "# FENIL PATEL - 200577030"
   ]
  },
  {
   "cell_type": "markdown",
   "id": "6de271cc",
   "metadata": {},
   "source": [
    "### Question 1"
   ]
  },
  {
   "cell_type": "code",
   "execution_count": 3,
   "id": "d862459c",
   "metadata": {},
   "outputs": [
    {
     "name": "stdout",
     "output_type": "stream",
     "text": [
      "<class 'int'>\n",
      "<class 'float'>\n",
      "<class 'bool'>\n",
      "<class 'str'>\n",
      "<class 'int'>\n",
      "<class 'str'>\n",
      "<class 'str'>\n",
      "<class 'float'>\n",
      "<class 'int'>\n",
      "<class 'set'>\n",
      "<class 'bool'>\n",
      "<class 'float'>\n"
     ]
    }
   ],
   "source": [
    "print(type(5))  # int\n",
    "print(type(5.0))  # float\n",
    "print(type(5 > 1))  # bool\n",
    "print(type('5'))  # str\n",
    "print(type(5 * 2))  # int\n",
    "print(type('5' * 2))  # str\n",
    "print(type('5' + '2'))  # str\n",
    "print(type(5 / 2))  # float\n",
    "print(type(5 % 2))  # int\n",
    "print(type({5, 2, 1}))  # set\n",
    "print(type(5 == 3))  # bool\n",
    "#  math library\n",
    "import math\n",
    "print(type(math.pi))  # float\n"
   ]
  },
  {
   "cell_type": "markdown",
   "id": "24e7a2ac",
   "metadata": {},
   "source": [
    "### Question 2"
   ]
  },
  {
   "cell_type": "code",
   "execution_count": 4,
   "id": "60e25313",
   "metadata": {},
   "outputs": [
    {
     "name": "stdout",
     "output_type": "stream",
     "text": [
      "34\n",
      "True\n",
      "Supercalifragilisticexpialidocious\n",
      "Bartok Buxtehude\n"
     ]
    }
   ],
   "source": [
    "word = 'Supercalifragilisticexpialidocious'\n",
    "print(len(word))  # a. \n",
    "print('ice' in word)  # b. \n",
    "longest_word = max(['Supercalifragilisticexpialidocious', 'Honorificabilitudinitatibus', 'Bababadalgharaghtakamminarronnkonn'], key=len)\n",
    "print(longest_word)  # c. \n",
    "composers = ['Berlioz', 'Borodin', 'Brian', 'Bartok', 'Bellini', 'Buxtehude', 'Bernstein']\n",
    "composers.sort()  # d.\n",
    "print(composers[0], composers[-1])\n"
   ]
  },
  {
   "cell_type": "markdown",
   "id": "93c64a4b",
   "metadata": {},
   "source": [
    "### Question 3"
   ]
  },
  {
   "cell_type": "code",
   "execution_count": 5,
   "id": "cbe83ee6",
   "metadata": {},
   "outputs": [
    {
     "name": "stdout",
     "output_type": "stream",
     "text": [
      "1.7320508075688772\n"
     ]
    }
   ],
   "source": [
    "def triangleArea(a, b, c):\n",
    "    x = (a + b + c) / 2\n",
    "    area = (x * (x - a) * (x - b) * (x - c)) ** 0.5\n",
    "    return area\n",
    "print(triangleArea(2, 2, 2))\n"
   ]
  },
  {
   "cell_type": "markdown",
   "id": "a0c48a26",
   "metadata": {},
   "source": [
    "### Question 4"
   ]
  },
  {
   "cell_type": "code",
   "execution_count": 6,
   "id": "0a083f02",
   "metadata": {},
   "outputs": [
    {
     "name": "stdout",
     "output_type": "stream",
     "text": [
      "Enter number of elements: 5\n",
      "Element 0: 25\n",
      "Element 1: 47\n",
      "Element 2: 42\n",
      "Element 3: 56\n",
      "Element 4: 32\n",
      "Even elements: [42, 56, 32]\n",
      "Odd elements: [25, 47]\n"
     ]
    }
   ],
   "source": [
    "num_elements = int(input(\"Enter number of elements: \"))\n",
    "arr = [int(input(f\"Element {i}: \")) for i in range(num_elements)]\n",
    "even_nums = [num for num in arr if num % 2 == 0]\n",
    "odd_nums = [num for num in arr if num % 2 != 0]\n",
    "print(\"Even elements:\", even_nums)\n",
    "print(\"Odd elements:\", odd_nums)\n"
   ]
  },
  {
   "cell_type": "markdown",
   "id": "b5a53911",
   "metadata": {},
   "source": [
    "### Question 5"
   ]
  },
  {
   "cell_type": "code",
   "execution_count": 7,
   "id": "5a2de0cd",
   "metadata": {},
   "outputs": [
    {
     "name": "stdout",
     "output_type": "stream",
     "text": [
      "True\n"
     ]
    }
   ],
   "source": [
    "def inside(x, y, x1, y1, x2, y2):\n",
    "    return x1 <= x <= x2 and y1 <= y <= y2\n",
    "print(inside(1, 1, 0, 0, 2, 3))\n"
   ]
  },
  {
   "cell_type": "markdown",
   "id": "a722d10c",
   "metadata": {},
   "source": [
    "### Question 6"
   ]
  },
  {
   "cell_type": "code",
   "execution_count": 8,
   "id": "c91a4512",
   "metadata": {},
   "outputs": [
    {
     "name": "stdout",
     "output_type": "stream",
     "text": [
      "appyhay\n",
      "enterway\n"
     ]
    }
   ],
   "source": [
    "def pig(word):\n",
    "    word = word.lower()\n",
    "    if word[0] in 'aeiou':\n",
    "        return word + 'way'\n",
    "    else:\n",
    "        return word[1:] + word[0] + 'ay'\n",
    "print(pig('happy'))\n",
    "print(pig('Enter'))\n"
   ]
  },
  {
   "cell_type": "markdown",
   "id": "75ebb28e",
   "metadata": {},
   "source": [
    "### Question 7"
   ]
  },
  {
   "cell_type": "code",
   "execution_count": 17,
   "id": "7e01992b",
   "metadata": {},
   "outputs": [
    {
     "name": "stdout",
     "output_type": "stream",
     "text": [
      "Sample 'bloodtype.txt' file created.\n"
     ]
    }
   ],
   "source": [
    "# Create a sample 'bloodtype.txt' file\n",
    "with open('bloodtype.txt', 'w') as file:\n",
    "    file.write('A AB O B O A B AB O OO')\n",
    "\n",
    "print(\"Sample 'bloodtype.txt' file created.\")\n",
    "\n"
   ]
  },
  {
   "cell_type": "code",
   "execution_count": 21,
   "id": "00722055",
   "metadata": {},
   "outputs": [
    {
     "name": "stdout",
     "output_type": "stream",
     "text": [
      "There are 2 patients with blood type A.\n",
      "There are 2 patients with blood type B.\n",
      "There are 2 patients with blood type AB.\n",
      "There are 3 patients with blood type O.\n",
      "There are 1 patients with blood type OO.\n"
     ]
    }
   ],
   "source": [
    "def bldcount(filename):\n",
    "    with open(filename, 'r') as file:\n",
    "        data = file.read().split()\n",
    "    types = ['A', 'B', 'AB', 'O', 'OO']\n",
    "    for blood_type in types:\n",
    "        print(f\"There are {data.count(blood_type)} patients with blood type {blood_type}.\")\n",
    "bldcount('bloodtype.txt')\n"
   ]
  },
  {
   "cell_type": "markdown",
   "id": "ed6a11aa",
   "metadata": {},
   "source": [
    "### Question 8"
   ]
  },
  {
   "cell_type": "code",
   "execution_count": 22,
   "id": "1797b3e7",
   "metadata": {},
   "outputs": [
    {
     "name": "stdout",
     "output_type": "stream",
     "text": [
      "122.96544\n"
     ]
    }
   ],
   "source": [
    "def curconv(currency, amount):\n",
    "    rates = {'EUR': 1.2296544, 'JPY': 0.01241401}  # Add more currencies as needed\n",
    "    return amount * rates[currency]\n",
    "print(curconv('EUR', 100))\n"
   ]
  },
  {
   "cell_type": "markdown",
   "id": "f3150837",
   "metadata": {},
   "source": [
    "### Question 9 "
   ]
  },
  {
   "cell_type": "markdown",
   "id": "b65b8056",
   "metadata": {},
   "source": [
    "1. TypeError: incompatible types (6 + 'a')\n",
    "2. IndexError: list index out of range (12th item in a list of 10)\n",
    "3. ValueError: math domain error (sqrt of negative number)\n",
    "4. NameError: variable not defined (using 'x' before defining)\n",
    "5. FileNotFoundError: trying to open a non-existent file\n"
   ]
  },
  {
   "cell_type": "markdown",
   "id": "82a33f5a",
   "metadata": {},
   "source": [
    "### Question 10 "
   ]
  },
  {
   "cell_type": "code",
   "execution_count": 27,
   "id": "986642d5",
   "metadata": {},
   "outputs": [
    {
     "name": "stdout",
     "output_type": "stream",
     "text": [
      "[1, 1, 1, 3, 5, 1, 1, 2, 1, 0, 1, 0, 1, 2, 4, 0, 1, 2, 0, 2, 1, 0, 1, 1, 0, 0]\n"
     ]
    }
   ],
   "source": [
    "def frequencies(text):\n",
    "    letters = 'abcdefghijklmnopqrstuvwxyz'\n",
    "    return [text.count(letter) for letter in letters]\n",
    "print(frequencies('The quick red fox got bored and went home.'))\n"
   ]
  },
  {
   "cell_type": "markdown",
   "id": "885e28a9",
   "metadata": {},
   "source": [
    "## ----- END -----"
   ]
  },
  {
   "cell_type": "code",
   "execution_count": null,
   "id": "fceba756",
   "metadata": {},
   "outputs": [],
   "source": []
  }
 ],
 "metadata": {
  "kernelspec": {
   "display_name": "Python 3 (ipykernel)",
   "language": "python",
   "name": "python3"
  },
  "language_info": {
   "codemirror_mode": {
    "name": "ipython",
    "version": 3
   },
   "file_extension": ".py",
   "mimetype": "text/x-python",
   "name": "python",
   "nbconvert_exporter": "python",
   "pygments_lexer": "ipython3",
   "version": "3.11.4"
  }
 },
 "nbformat": 4,
 "nbformat_minor": 5
}
